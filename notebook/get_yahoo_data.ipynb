{
 "cells": [
  {
   "cell_type": "markdown",
   "id": "9778c18d-f70d-4d4a-ab7b-7a204081f1ab",
   "metadata": {},
   "source": [
    "# Import"
   ]
  },
  {
   "cell_type": "code",
   "execution_count": 24,
   "id": "df16706f-f3eb-45fb-983c-0314fadcdbbe",
   "metadata": {},
   "outputs": [],
   "source": [
    "# import sys\n",
    "\n",
    "# sys.path.append(\"../\")\n",
    "import datetime\n",
    "\n",
    "from vook_db_v5.local_config import ClientId, pid, sid\n",
    "\n",
    "aff_id = f\"//ck.jp.ap.valuecommerce.com/servlet/referral?vs={sid}&vp={pid}&vc_url=\"\n",
    "\n",
    "# import hashlib\n",
    "import json\n",
    "\n",
    "import pandas as pd\n",
    "import requests"
   ]
  },
  {
   "cell_type": "markdown",
   "id": "522288d6-380f-48f2-9032-029bfb67e589",
   "metadata": {},
   "source": [
    "# Global"
   ]
  },
  {
   "cell_type": "code",
   "execution_count": 33,
   "id": "dbff3fd4-a391-45a3-add2-11b137546be4",
   "metadata": {},
   "outputs": [],
   "source": [
    "REQ_URL_CATE = \"https://shopping.yahooapis.jp/ShoppingWebService/V3/itemSearch\"\n",
    "\n",
    "\n",
    "PLATFORM = \"Yahoo\"\n",
    "PLATFORM_ID = 2\n",
    "BRAND = \"リーバイス\"\n",
    "BRAND_ID = 1\n",
    "ITEM = \"デニム\"\n",
    "ITEM_ID = 1\n",
    "LINE = \"501\"\n",
    "LINE_ID = 1\n",
    "KNOWLEDGE = \"66前期\"\n",
    "KNOWLEDGE_ID = 1\n",
    "START_AGE = 1974\n",
    "END_AGE = 1977\n",
    "AGES_ID = 1\n",
    "RUN_TIME = datetime.datetime.today().strftime(\"%Y%m%d_%H%M%S\")\n",
    "INFO_GET_DATE = datetime.datetime.today()\n",
    "TABLE_COLUMNS = [\n",
    "    \"product_id\",\n",
    "    \"product_name\",\n",
    "    \"platform_id\",\n",
    "    \"ages_id\",\n",
    "    \"brand_id\",\n",
    "    \"item_id\",\n",
    "    \"line_id\",\n",
    "    \"price\",\n",
    "    \"info_get_date\",\n",
    "    \"status\",\n",
    "]\n",
    "\n",
    "WANT_ITEMS = [\n",
    "    \"id\",\n",
    "    \"name\",\n",
    "    \"url\",\n",
    "    \"price\",\n",
    "    \"knowledge_id\",\n",
    "    \"platform_id\",\n",
    "    \"size_id\",\n",
    "    \"created_at\",\n",
    "    \"updated_at\",\n",
    "]"
   ]
  },
  {
   "cell_type": "markdown",
   "id": "edbfcb02-f5d4-4ea6-9f9d-da86e47b97ad",
   "metadata": {},
   "source": [
    "# Main"
   ]
  },
  {
   "cell_type": "code",
   "execution_count": 31,
   "id": "660c44c3-4a03-48dd-ae09-7abc7670c35a",
   "metadata": {},
   "outputs": [],
   "source": [
    "query = f\"{BRAND} ヴィンテージ {ITEM} {LINE} {KNOWLEDGE}\""
   ]
  },
  {
   "cell_type": "code",
   "execution_count": 36,
   "id": "d58c1dcb-0cdb-4e43-b122-e9e995108871",
   "metadata": {},
   "outputs": [
    {
     "data": {
      "text/plain": [
       "'2023-08-26 14:21:35.788883'"
      ]
     },
     "execution_count": 36,
     "metadata": {},
     "output_type": "execute_result"
    }
   ],
   "source": [
    "# 現在の日付と時刻を取得 & フォーマットを指定して文字列に変換\n",
    "datetime.datetime.now().strftime(\"%Y-%m-%d %H:%M:%S.%f\")"
   ]
  },
  {
   "cell_type": "code",
   "execution_count": 37,
   "id": "aecda166-3c0c-469d-91bb-6c25e685d2c6",
   "metadata": {},
   "outputs": [
    {
     "name": "stdout",
     "output_type": "stream",
     "text": [
      "Get Data\n",
      "Get Data\n",
      "If the number of returned items is 0, the loop ends.\n",
      "Get Data\n",
      "If the number of returned items is 0, the loop ends.\n",
      "Get Data\n",
      "If the number of returned items is 0, the loop ends.\n",
      "Get Data\n",
      "If the number of returned items is 0, the loop ends.\n",
      "Get Data\n",
      "If the number of returned items is 0, the loop ends.\n",
      "Get Data\n",
      "If the number of returned items is 0, the loop ends.\n",
      "Get Data\n",
      "If the number of returned items is 0, the loop ends.\n",
      "Get Data\n",
      "Bad request\n"
     ]
    }
   ],
   "source": [
    "params = {\n",
    "    \"appid\": ClientId,\n",
    "    \"output\": \"json\",\n",
    "    \"query\": query,\n",
    "    \"sort\": \"-price\",\n",
    "    \"affiliate_id\": aff_id,\n",
    "    \"affiliate_type\": \"vc\",\n",
    "    \"results\": 100,  # NOTE: 100個ずつしか取得できない。\n",
    "}\n",
    "\n",
    "start_num = 1\n",
    "step = 100\n",
    "max_products = 1000\n",
    "l_df = []\n",
    "for inc in range(0, max_products, step):\n",
    "    params[\"start\"] = start_num + inc\n",
    "    df = pd.DataFrame(columns=WANT_ITEMS)\n",
    "    res = requests.get(url=REQ_URL_CATE, params=params)\n",
    "    res_cd = res.status_code\n",
    "    if res_cd != 200:\n",
    "        print(f\"Bad request\")\n",
    "        break\n",
    "    else:\n",
    "        res = json.loads(res.text)\n",
    "        if len(res[\"hits\"]) == 0:\n",
    "            print(\"If the number of returned items is 0, the loop ends.\")\n",
    "        print(f\"Get Data\")\n",
    "        l_hit = []\n",
    "        for h in res[\"hits\"]:\n",
    "            l_hit.append(\n",
    "                (\n",
    "                    h[\"index\"],\n",
    "                    h[\"name\"],\n",
    "                    h[\"url\"],\n",
    "                    h[\"price\"],\n",
    "                    KNOWLEDGE_ID,\n",
    "                    PLATFORM_ID,\n",
    "                    \"\",\n",
    "                    # 現在の日付と時刻を取得 & フォーマットを指定して文字列に変換\n",
    "                    datetime.datetime.now().strftime(\"%Y-%m-%d %H:%M:%S.%f\"),\n",
    "                    # 現在の日付と時刻を取得 & フォーマットを指定して文字列に変換\n",
    "                    datetime.datetime.now().strftime(\"%Y-%m-%d %H:%M:%S.%f\"),\n",
    "                )\n",
    "            )\n",
    "        df = pd.DataFrame(l_hit, columns=WANT_ITEMS)\n",
    "        l_df.append(df)"
   ]
  },
  {
   "cell_type": "code",
   "execution_count": 39,
   "id": "7dc5a5b0-b037-4b8b-9f01-90dfd1e26243",
   "metadata": {
    "tags": []
   },
   "outputs": [],
   "source": [
    "products_raw = pd.concat(l_df, axis=0, ignore_index=True)"
   ]
  },
  {
   "cell_type": "code",
   "execution_count": 40,
   "id": "7eafdf38-fd02-4e32-9503-0582946c9738",
   "metadata": {
    "tags": []
   },
   "outputs": [],
   "source": [
    "products_raw.to_csv(f\"./data/output/products_raw.csv\", index=False)"
   ]
  }
 ],
 "metadata": {
  "kernelspec": {
   "display_name": "Python 3 (ipykernel)",
   "language": "python",
   "name": "python3"
  },
  "language_info": {
   "codemirror_mode": {
    "name": "ipython",
    "version": 3
   },
   "file_extension": ".py",
   "mimetype": "text/x-python",
   "name": "python",
   "nbconvert_exporter": "python",
   "pygments_lexer": "ipython3",
   "version": "3.10.5"
  }
 },
 "nbformat": 4,
 "nbformat_minor": 5
}
