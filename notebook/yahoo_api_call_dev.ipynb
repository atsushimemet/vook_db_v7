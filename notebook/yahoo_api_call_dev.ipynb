{
 "cells": [
  {
   "cell_type": "code",
   "execution_count": 1,
   "id": "282a660a-7b2f-4069-83d6-053e7caa9238",
   "metadata": {},
   "outputs": [],
   "source": [
    "import datetime\n",
    "import sys\n",
    "sys.path.append(\"../\")\n",
    "from vook_db_v7.local_config import ClientId, pid, sid\n",
    "\n",
    "import json\n",
    "import pandas as pd\n",
    "import requests"
   ]
  },
  {
   "cell_type": "code",
   "execution_count": 2,
   "id": "379b4b66-d67d-4706-9ff8-e0dae39d84ba",
   "metadata": {},
   "outputs": [],
   "source": [
    "aff_id = f\"//ck.jp.ap.valuecommerce.com/servlet/referral?vs={sid}&vp={pid}&vc_url=\""
   ]
  },
  {
   "cell_type": "code",
   "execution_count": 3,
   "id": "74ec4917-98fb-48e0-bd9e-15be0faa069e",
   "metadata": {},
   "outputs": [],
   "source": [
    "REQ_URL_CATE = \"https://shopping.yahooapis.jp/ShoppingWebService/V3/itemSearch\"\n",
    "\n",
    "\n",
    "PLATFORM = \"Yahoo\"\n",
    "PLATFORM_ID = 2\n",
    "BRAND = \"リーバイス\"\n",
    "BRAND_ID = 1\n",
    "ITEM = \"デニム\"\n",
    "ITEM_ID = 1\n",
    "LINE = \"501\"\n",
    "LINE_ID = 1\n",
    "KNOWLEDGE = \"66前期\"\n",
    "KNOWLEDGE_ID = 1\n",
    "START_AGE = 1974\n",
    "END_AGE = 1977\n",
    "AGES_ID = 1\n",
    "RUN_TIME = datetime.datetime.today().strftime(\"%Y%m%d_%H%M%S\")\n",
    "INFO_GET_DATE = datetime.datetime.today()\n",
    "TABLE_COLUMNS = [\n",
    "    \"product_id\",\n",
    "    \"product_name\",\n",
    "    \"platform_id\",\n",
    "    \"ages_id\",\n",
    "    \"brand_id\",\n",
    "    \"item_id\",\n",
    "    \"line_id\",\n",
    "    \"price\",\n",
    "    \"info_get_date\",\n",
    "    \"status\",\n",
    "]\n",
    "\n",
    "WANT_ITEMS = [\n",
    "    \"id\",\n",
    "    \"name\",\n",
    "    \"url\",\n",
    "    \"price\",\n",
    "    \"knowledge_id\",\n",
    "    \"platform_id\",\n",
    "    \"size_id\",\n",
    "    \"created_at\",\n",
    "    \"updated_at\",\n",
    "]"
   ]
  },
  {
   "cell_type": "code",
   "execution_count": 4,
   "id": "02897d8a-a8be-406f-85ff-a44b90378bfb",
   "metadata": {},
   "outputs": [],
   "source": [
    "BRAND = 'リーバイス levis'\n",
    "ITEM = '501 66前期'\n",
    "query = f\"{BRAND} {ITEM} 中古\""
   ]
  },
  {
   "cell_type": "code",
   "execution_count": 5,
   "id": "e130a7c7-daae-46fa-93c9-755fa66d7e23",
   "metadata": {},
   "outputs": [],
   "source": [
    "params = {\n",
    "    \"appid\": ClientId,\n",
    "    \"output\": \"json\",\n",
    "    \"query\": query,\n",
    "    \"sort\": \"-price\",\n",
    "    \"affiliate_id\": aff_id,\n",
    "    \"affiliate_type\": \"vc\",\n",
    "    \"results\": 100,  # NOTE: 100個ずつしか取得できない。\n",
    "}"
   ]
  },
  {
   "cell_type": "code",
   "execution_count": 6,
   "id": "06efff01-0b27-4cd5-a195-c860b9d9ef13",
   "metadata": {},
   "outputs": [
    {
     "name": "stdout",
     "output_type": "stream",
     "text": [
      "Get Data\n",
      "If the number of returned items is 0, the loop ends.\n",
      "Get Data\n",
      "If the number of returned items is 0, the loop ends.\n",
      "Get Data\n",
      "If the number of returned items is 0, the loop ends.\n",
      "Get Data\n",
      "If the number of returned items is 0, the loop ends.\n",
      "Get Data\n",
      "If the number of returned items is 0, the loop ends.\n",
      "Get Data\n",
      "If the number of returned items is 0, the loop ends.\n",
      "Get Data\n",
      "If the number of returned items is 0, the loop ends.\n",
      "Get Data\n",
      "If the number of returned items is 0, the loop ends.\n",
      "Get Data\n",
      "Bad request\n"
     ]
    }
   ],
   "source": [
    "start_num = 1\n",
    "step = 100\n",
    "max_products = 1000\n",
    "l_df = []\n",
    "for inc in range(0, max_products, step):\n",
    "    params[\"start\"] = start_num + inc\n",
    "    df = pd.DataFrame(columns=WANT_ITEMS)\n",
    "    res = requests.get(url=REQ_URL_CATE, params=params)\n",
    "    res_cd = res.status_code\n",
    "    if res_cd != 200:\n",
    "        print(f\"Bad request\")\n",
    "        break\n",
    "    else:\n",
    "        res = json.loads(res.text)\n",
    "        if len(res[\"hits\"]) == 0:\n",
    "            print(\"If the number of returned items is 0, the loop ends.\")\n",
    "        print(f\"Get Data\")\n",
    "        l_hit = []\n",
    "        for h in res[\"hits\"]:\n",
    "            l_hit.append(\n",
    "                (\n",
    "                    h[\"index\"],\n",
    "                    h[\"name\"],\n",
    "                    h[\"url\"],\n",
    "                    h[\"price\"],\n",
    "                    KNOWLEDGE_ID,\n",
    "                    PLATFORM_ID,\n",
    "                    \"\",\n",
    "                    # 現在の日付と時刻を取得 & フォーマットを指定して文字列に変換\n",
    "                    datetime.datetime.now().strftime(\"%Y-%m-%d %H:%M:%S.%f\"),\n",
    "                    # 現在の日付と時刻を取得 & フォーマットを指定して文字列に変換\n",
    "                    datetime.datetime.now().strftime(\"%Y-%m-%d %H:%M:%S.%f\"),\n",
    "                )\n",
    "            )\n",
    "        df = pd.DataFrame(l_hit, columns=WANT_ITEMS)\n",
    "        l_df.append(df)"
   ]
  },
  {
   "cell_type": "code",
   "execution_count": 7,
   "id": "56868f08-5d39-4e33-bf05-78a273a2ea77",
   "metadata": {},
   "outputs": [],
   "source": [
    "products_raw = pd.concat(l_df, axis=0, ignore_index=True)"
   ]
  },
  {
   "cell_type": "code",
   "execution_count": 8,
   "id": "3417f85d-a338-4ffe-abba-da080089db93",
   "metadata": {},
   "outputs": [],
   "source": [
    "#とりあえずsize idは999でいれる\n",
    "products_raw['size_id'] = 999"
   ]
  },
  {
   "cell_type": "code",
   "execution_count": 9,
   "id": "c175c658-b2f6-407e-bba0-28ec95d3ee5c",
   "metadata": {},
   "outputs": [],
   "source": [
    "#csv保存\n",
    "file_name = \"products_raw2\"\n",
    "products_raw.to_csv(\"../data/output/\" + file_name + \".csv\", index=False)\n",
    "\n"
   ]
  },
  {
   "cell_type": "code",
   "execution_count": null,
   "id": "0c8d2e67-ef8b-4469-8582-9cabe14f2561",
   "metadata": {},
   "outputs": [],
   "source": [
    "\n"
   ]
  },
  {
   "cell_type": "code",
   "execution_count": null,
   "id": "4d1d7eef-59a1-4d07-860e-cef4fa52b192",
   "metadata": {},
   "outputs": [],
   "source": []
  }
 ],
 "metadata": {
  "kernelspec": {
   "display_name": "Python 3 (ipykernel)",
   "language": "python",
   "name": "python3"
  },
  "language_info": {
   "codemirror_mode": {
    "name": "ipython",
    "version": 3
   },
   "file_extension": ".py",
   "mimetype": "text/x-python",
   "name": "python",
   "nbconvert_exporter": "python",
   "pygments_lexer": "ipython3",
   "version": "3.11.3"
  }
 },
 "nbformat": 4,
 "nbformat_minor": 5
}
