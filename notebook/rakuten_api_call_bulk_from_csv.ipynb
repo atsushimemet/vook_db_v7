{
 "cells": [
  {
   "cell_type": "code",
   "execution_count": 1,
   "id": "264c0729-3fe6-4689-906e-f7088659aa74",
   "metadata": {},
   "outputs": [],
   "source": [
    "import sys\n",
    "sys.path.append(\"../\")\n",
    "\n",
    "import argparse\n",
    "import datetime\n",
    "import json\n",
    "import os\n",
    "import re\n",
    "from time import sleep\n",
    "\n",
    "import numpy as np\n",
    "import pandas as pd\n",
    "import requests\n",
    "\n",
    "from vook_db_v7.config import MAX_PAGE, REQ_URL, WANT_ITEMS, req_params\n",
    "\n",
    "# from logzero import logger"
   ]
  },
  {
   "cell_type": "code",
   "execution_count": 11,
   "id": "2903f64e-c319-4b81-b058-d05fa4b93aaa",
   "metadata": {},
   "outputs": [],
   "source": [
    "#csvデータ作成\n",
    "csv_sample = pd.DataFrame()\n",
    "columns = [\"brand\", \"item\", \"knowlwdge\", \"knowledge_id\"]\n",
    "types = [\n",
    "    \"object\",\n",
    "    \"object\",\n",
    "    \"object\",\n",
    "    \"int64\",\n",
    "]\n",
    "d_column = dict(zip(columns, [2]))\n",
    "df_brand = pd.DataFrame(data={'brand':['リーバイス','ラングラー']})\n",
    "df_item = pd.DataFrame(data={'item':['501','501xx']})\n",
    "df_item = pd.DataFrame(data={'knowkedge_id':['501','501xx']})\n",
    "\n"
   ]
  },
  {
   "cell_type": "code",
   "execution_count": 12,
   "id": "4b942782-8ac7-4ee7-b67d-75556d38d1e7",
   "metadata": {},
   "outputs": [
    {
     "data": {
      "text/html": [
       "<div>\n",
       "<style scoped>\n",
       "    .dataframe tbody tr th:only-of-type {\n",
       "        vertical-align: middle;\n",
       "    }\n",
       "\n",
       "    .dataframe tbody tr th {\n",
       "        vertical-align: top;\n",
       "    }\n",
       "\n",
       "    .dataframe thead th {\n",
       "        text-align: right;\n",
       "    }\n",
       "</style>\n",
       "<table border=\"1\" class=\"dataframe\">\n",
       "  <thead>\n",
       "    <tr style=\"text-align: right;\">\n",
       "      <th></th>\n",
       "      <th>item</th>\n",
       "    </tr>\n",
       "  </thead>\n",
       "  <tbody>\n",
       "    <tr>\n",
       "      <th>0</th>\n",
       "      <td>501</td>\n",
       "    </tr>\n",
       "    <tr>\n",
       "      <th>1</th>\n",
       "      <td>501xx</td>\n",
       "    </tr>\n",
       "  </tbody>\n",
       "</table>\n",
       "</div>"
      ],
      "text/plain": [
       "    item\n",
       "0    501\n",
       "1  501xx"
      ]
     },
     "execution_count": 12,
     "metadata": {},
     "output_type": "execute_result"
    }
   ],
   "source": [
    "df_brand\n",
    "df_item"
   ]
  },
  {
   "cell_type": "code",
   "execution_count": 4,
   "id": "04d4f766-c173-4f23-9a51-4d72a65ba4b0",
   "metadata": {},
   "outputs": [
    {
     "data": {
      "text/plain": [
       "{'id': 2}"
      ]
     },
     "execution_count": 4,
     "metadata": {},
     "output_type": "execute_result"
    }
   ],
   "source": [
    "d_column"
   ]
  },
  {
   "cell_type": "code",
   "execution_count": null,
   "id": "e5ac7b74-3d72-402e-99ed-7b81df0e5797",
   "metadata": {},
   "outputs": [],
   "source": []
  }
 ],
 "metadata": {
  "kernelspec": {
   "display_name": "Python 3 (ipykernel)",
   "language": "python",
   "name": "python3"
  },
  "language_info": {
   "codemirror_mode": {
    "name": "ipython",
    "version": 3
   },
   "file_extension": ".py",
   "mimetype": "text/x-python",
   "name": "python",
   "nbconvert_exporter": "python",
   "pygments_lexer": "ipython3",
   "version": "3.11.3"
  }
 },
 "nbformat": 4,
 "nbformat_minor": 5
}
