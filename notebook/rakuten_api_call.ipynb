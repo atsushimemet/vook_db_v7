{
 "cells": [
  {
   "cell_type": "code",
   "execution_count": 1,
   "id": "0510d69a-8a1e-4561-a93b-277762174f92",
   "metadata": {},
   "outputs": [],
   "source": [
    "import sys\n",
    "\n",
    "sys.path.append(\"../\")"
   ]
  },
  {
   "cell_type": "code",
   "execution_count": 2,
   "id": "eb6f5015-7b1d-4c12-9c86-8e4b24cc3455",
   "metadata": {},
   "outputs": [],
   "source": [
    "import argparse\n",
    "import datetime\n",
    "import json\n",
    "import os\n",
    "import re\n",
    "from time import sleep\n",
    "\n",
    "import numpy as np\n",
    "import pandas as pd\n",
    "import requests\n",
    "\n",
    "from vook_db_v7.config import MAX_PAGE, REQ_URL, WANT_ITEMS, req_params\n",
    "\n",
    "# from logzero import logger"
   ]
  },
  {
   "cell_type": "code",
   "execution_count": 3,
   "id": "d2182241-2aba-4b2f-9abe-45e5d50e4277",
   "metadata": {},
   "outputs": [],
   "source": [
    "brand = \"リーバイス levis\"\n",
    "item = \"501 BigE 後期\"\n",
    "\n",
    "platform_id = 1\n",
    "knowledge_id = 10"
   ]
  },
  {
   "cell_type": "code",
   "execution_count": 4,
   "id": "5add6289-f079-48c2-b338-73a3523d62ce",
   "metadata": {},
   "outputs": [
    {
     "name": "stdout",
     "output_type": "stream",
     "text": [
      "Finished!!\n",
      "返ってきた商品数の数が0なので、ループ終了\n"
     ]
    }
   ],
   "source": [
    "cnt = 1\n",
    "keyword = f\"{brand} {item} 中古\"\n",
    "\n",
    "req_params[\"page\"] = cnt\n",
    "req_params[\"keyword\"] = keyword\n",
    "df = pd.DataFrame(columns=WANT_ITEMS)\n",
    "\n",
    "# ページループ\n",
    "# logger.info(\"loop start!\")\n",
    "while True:\n",
    "    req_params[\"page\"] = cnt\n",
    "    res = requests.get(REQ_URL, req_params)\n",
    "    res_code = res.status_code\n",
    "    res = json.loads(res.text)\n",
    "    if res_code != 200:\n",
    "        print(\n",
    "            f\"\"\"\n",
    "        ErrorCode -> {res_code}\\n\n",
    "        Error -> {res['error']}\\n\n",
    "        Page -> {cnt}\"\"\"\n",
    "        )\n",
    "    else:\n",
    "        if res[\"hits\"] == 0:\n",
    "            print(\"返ってきた商品数の数が0なので、ループ終了\")\n",
    "            break\n",
    "        tmp_df = pd.DataFrame(res[\"Items\"])[WANT_ITEMS]\n",
    "        df = pd.concat([df, tmp_df], ignore_index=True)\n",
    "    if cnt == MAX_PAGE:\n",
    "        print(\"MAX PAGEに到達したので、ループ終了\")\n",
    "        break\n",
    "    # logger.info(f\"{cnt} end!\")\n",
    "    cnt += 1\n",
    "    # リクエスト制限回避\n",
    "    sleep(1)\n",
    "\n",
    "    print(\"Finished!!\")"
   ]
  },
  {
   "cell_type": "code",
   "execution_count": 6,
   "id": "b16fd90e-6b4c-4e47-9cbd-40bd442302a8",
   "metadata": {},
   "outputs": [],
   "source": [
    "df[\"platform_id\"] = platform_id\n",
    "df[\"knowledge_id\"] = knowledge_id\n",
    "df[\"size_id\"] = 999\n",
    "df_prev = pd.read_csv(\"../data/output/products_raw_prev.csv\")\n",
    "PREV_ID_MAX = df_prev[\"id\"].max()\n",
    "df[\"id\"] = np.arange(PREV_ID_MAX, PREV_ID_MAX + len(df)) + 1\n",
    "\n",
    "df_main = df.rename(\n",
    "    columns={\"itemName\": \"name\", \"itemPrice\": \"price\", \"itemUrl\": \"url\"}\n",
    ")\n",
    "df_main = df_main.reindex(\n",
    "    columns=[\"id\", \"name\", \"url\", \"price\", \"knowledge_id\", \"platform_id\", \"size_id\"]\n",
    ")\n",
    "\n",
    "run_time = datetime.datetime.now().strftime(\"%Y-%m-%d %H:%M:%S.%f\")\n",
    "df_main[\"created_at\"] = run_time\n",
    "df_main[\"updated_at\"] = run_time"
   ]
  },
  {
   "cell_type": "code",
   "execution_count": 7,
   "id": "0dbdcbe2-05aa-4300-a056-de24ae24caf1",
   "metadata": {},
   "outputs": [],
   "source": [
    "file_name = \"products_raw\"\n",
    "df_main.to_csv(\"../data/output/\" + file_name + \".csv\", index=False)"
   ]
  },
  {
   "cell_type": "code",
   "execution_count": null,
   "id": "1fec93c1-eda6-485a-801a-0c75b887e91d",
   "metadata": {},
   "outputs": [],
   "source": []
  }
 ],
 "metadata": {
  "kernelspec": {
   "display_name": "Python 3 (ipykernel)",
   "language": "python",
   "name": "python3"
  },
  "language_info": {
   "codemirror_mode": {
    "name": "ipython",
    "version": 3
   },
   "file_extension": ".py",
   "mimetype": "text/x-python",
   "name": "python",
   "nbconvert_exporter": "python",
   "pygments_lexer": "ipython3",
   "version": "3.11.3"
  }
 },
 "nbformat": 4,
 "nbformat_minor": 5
}
