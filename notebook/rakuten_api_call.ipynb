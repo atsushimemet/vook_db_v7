{
 "cells": [
  {
   "cell_type": "code",
   "execution_count": 24,
   "id": "eb6f5015-7b1d-4c12-9c86-8e4b24cc3455",
   "metadata": {},
   "outputs": [],
   "source": [
    "import json\n",
    "import re\n",
    "from time import sleep\n",
    "import os\n",
    "import pandas as pd\n",
    "import requests\n",
    "from vook_db_v5.config import req_params, WANT_ITEMS, REQ_URL, MAX_PAGE, path_output_dir\n",
    "import datetime\n",
    "import argparse\n",
    "import numpy as np\n",
    "# from logzero import logger"
   ]
  },
  {
   "cell_type": "code",
   "execution_count": 25,
   "id": "d2182241-2aba-4b2f-9abe-45e5d50e4277",
   "metadata": {},
   "outputs": [],
   "source": [
    "brand = 'リーバイス levis'\n",
    "item = '501 66前期'\n",
    "\n",
    "platform_id = 1\n",
    "item_id = 1\n",
    "knowledge_id = 1"
   ]
  },
  {
   "cell_type": "code",
   "execution_count": 26,
   "id": "5add6289-f079-48c2-b338-73a3523d62ce",
   "metadata": {},
   "outputs": [
    {
     "name": "stdout",
     "output_type": "stream",
     "text": [
      "Finished!!\n",
      "Finished!!\n",
      "返ってきた商品数の数が0なので、ループ終了\n"
     ]
    }
   ],
   "source": [
    "cnt = 1\n",
    "keyword = f\"{brand} {item} 中古\"\n",
    "\n",
    "req_params[\"page\"] = cnt\n",
    "req_params[\"keyword\"] = keyword\n",
    "df = pd.DataFrame(columns=WANT_ITEMS)\n",
    "\n",
    "# ページループ\n",
    "# logger.info(\"loop start!\")\n",
    "while True:\n",
    "    req_params[\"page\"] = cnt\n",
    "    res = requests.get(REQ_URL, req_params)\n",
    "    res_code = res.status_code\n",
    "    res = json.loads(res.text)\n",
    "    if res_code != 200:\n",
    "        print(\n",
    "            f\"\"\"\n",
    "        ErrorCode -> {res_code}\\n\n",
    "        Error -> {res['error']}\\n\n",
    "        Page -> {cnt}\"\"\"\n",
    "        )\n",
    "    else:\n",
    "        if res[\"hits\"] == 0:\n",
    "            print(\"返ってきた商品数の数が0なので、ループ終了\")\n",
    "            break\n",
    "        tmp_df = pd.DataFrame(res[\"Items\"])[WANT_ITEMS]\n",
    "        df = pd.concat([df, tmp_df], ignore_index=True)\n",
    "    if cnt == MAX_PAGE:\n",
    "        print(\"MAX PAGEに到達したので、ループ終了\")\n",
    "        break\n",
    "    # logger.info(f\"{cnt} end!\")\n",
    "    cnt += 1\n",
    "    # リクエスト制限回避\n",
    "    sleep(1)\n",
    "\n",
    "    print(\"Finished!!\")"
   ]
  },
  {
   "cell_type": "code",
   "execution_count": 27,
   "id": "b16fd90e-6b4c-4e47-9cbd-40bd442302a8",
   "metadata": {},
   "outputs": [],
   "source": [
    "df['pltaform_id'] = platform_id\n",
    "df['knowledge_id'] = knowledge_id\n",
    "df['size_id'] = ''\n",
    "df['id'] = np.arange(len(df))+1\n",
    "\n",
    "df_main = df.rename(columns={'itemName':'name', 'itemPrice':'price', 'itemUrl':'url'})\n",
    "df_main = df_main.reindex(columns=[\n",
    "    'id','name','url','price','knowledge_id','pltaform_id','size_id'])\n",
    "\n",
    "run_time = datetime.datetime.now().strftime(\"%Y-%m-%d %H:%M:%S.%f\")\n",
    "df_main['created_at'] = run_time\n",
    "df_main['updated_at'] = run_time"
   ]
  },
  {
   "cell_type": "code",
   "execution_count": 28,
   "id": "0dbdcbe2-05aa-4300-a056-de24ae24caf1",
   "metadata": {},
   "outputs": [],
   "source": [
    "file_name = 'rakuten_api_test'\n",
    "df_main.to_csv('./data/output/'+file_name+'.csv', index=False)"
   ]
  },
  {
   "cell_type": "code",
   "execution_count": null,
   "id": "09416186-a926-4a47-95bd-4e7bb8ad93f8",
   "metadata": {},
   "outputs": [],
   "source": []
  },
  {
   "cell_type": "code",
   "execution_count": null,
   "id": "2c7fc0e4-1b7f-4d6c-a9cb-a521cc034125",
   "metadata": {},
   "outputs": [],
   "source": []
  }
 ],
 "metadata": {
  "kernelspec": {
   "display_name": "Python 3 (ipykernel)",
   "language": "python",
   "name": "python3"
  },
  "language_info": {
   "codemirror_mode": {
    "name": "ipython",
    "version": 3
   },
   "file_extension": ".py",
   "mimetype": "text/x-python",
   "name": "python",
   "nbconvert_exporter": "python",
   "pygments_lexer": "ipython3",
   "version": "3.11.3"
  }
 },
 "nbformat": 4,
 "nbformat_minor": 5
}
