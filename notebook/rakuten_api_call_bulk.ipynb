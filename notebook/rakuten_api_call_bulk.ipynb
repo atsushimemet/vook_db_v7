{
 "cells": [
  {
   "cell_type": "code",
   "execution_count": 1,
   "id": "7210bbb8-eeb0-41e7-b540-b05d8439d8d0",
   "metadata": {},
   "outputs": [],
   "source": [
    "import sys\n",
    "sys.path.append(\"../\")\n",
    "\n",
    "import argparse\n",
    "import datetime\n",
    "import json\n",
    "import os\n",
    "import re\n",
    "from time import sleep\n",
    "\n",
    "import numpy as np\n",
    "import pandas as pd\n",
    "import requests\n",
    "\n",
    "from vook_db_v7.config import MAX_PAGE, REQ_URL, WANT_ITEMS, req_params\n",
    "\n",
    "# from logzero import logger"
   ]
  },
  {
   "cell_type": "code",
   "execution_count": null,
   "id": "0221c312-1987-45ac-9ca6-56eac1883fe7",
   "metadata": {},
   "outputs": [],
   "source": [
    "# apiコールした結果からdataframeを出力する関数を定義\n",
    "def DataFrame_maker(keyword, platform_id, knowledge_id, size_id):\n",
    "    cnt = 1\n",
    "    df = pd.DataFrame(columns=WANT_ITEMS)\n",
    "    req_params[\"page\"] = cnt\n",
    "    req_params[\"keyword\"] = keyword\n",
    "    while True:\n",
    "        req_params[\"page\"] = cnt\n",
    "        res = requests.get(REQ_URL, req_params)\n",
    "        res_code = res.status_code\n",
    "        res = json.loads(res.text)\n",
    "        if res_code != 200:\n",
    "            print(\n",
    "                f\"\"\"\n",
    "            ErrorCode -> {res_code}\\n\n",
    "            Error -> {res['error']}\\n\n",
    "            Page -> {cnt}\"\"\"\n",
    "            )\n",
    "        else:\n",
    "            if res[\"hits\"] == 0:\n",
    "                print(\"返ってきた商品数の数が0なので、ループ終了\")\n",
    "                break\n",
    "            tmp_df = pd.DataFrame(res[\"Items\"])[WANT_ITEMS]\n",
    "            df = pd.concat([df, tmp_df], ignore_index=True)\n",
    "        if cnt == MAX_PAGE:\n",
    "            print(\"MAX PAGEに到達したので、ループ終了\")\n",
    "            break\n",
    "        # logger.info(f\"{cnt} end!\")\n",
    "        cnt += 1\n",
    "        # リクエスト制限回避\n",
    "        sleep(1)\n",
    "\n",
    "        print(\"Finished!!\")\n",
    "    df[\"platform_id\"] = platform_id\n",
    "    df[\"knowledge_id\"] = knowledge_id\n",
    "    df[\"size_id\"] = size_id\n",
    "    df_main = df.rename(\n",
    "        columns={\"itemName\": \"name\", \"itemPrice\": \"price\", \"itemUrl\": \"url\"}\n",
    "    )\n",
    "    df_main = df_main.reindex(\n",
    "        columns=[\"id\", \"name\", \"url\", \"price\", \"knowledge_id\", \"platform_id\", \"size_id\"]\n",
    "    )\n",
    "    print(\"price type before:\", df_main[\"price\"].dtype)\n",
    "    df_main[\"price\"] = df_main[\"price\"].astype(int)\n",
    "    print(\"price type after:\", df_main[\"price\"].dtype)\n",
    "    run_time = datetime.datetime.now().strftime(\"%Y-%m-%d %H:%M:%S.%f\")\n",
    "    df_main[\"created_at\"] = run_time\n",
    "    df_main[\"updated_at\"] = run_time\n",
    "    return df_main"
   ]
  },
  {
   "cell_type": "code",
   "execution_count": null,
   "id": "14a4e261-3581-4114-bc2e-5957c2ba240c",
   "metadata": {},
   "outputs": [],
   "source": []
  },
  {
   "cell_type": "code",
   "execution_count": 56,
   "id": "d9c97793-bfc1-445b-ae0c-a8d0cfdea4ea",
   "metadata": {},
   "outputs": [
    {
     "name": "stdout",
     "output_type": "stream",
     "text": [
      "検索キーワード:[リーバイス levis 501xx 片面タブ 中古] knowledge_id: 11\n",
      "Finished!!\n",
      "返ってきた商品数の数が0なので、ループ終了\n",
      "検索キーワード:[リーバイス levis 501xx 両面タブ 中古] knowledge_id: 12\n",
      "Finished!!\n",
      "返ってきた商品数の数が0なので、ループ終了\n"
     ]
    }
   ],
   "source": [
    "platform_id = 1\n",
    "size_id = 999\n",
    "\n",
    "brand = \"リーバイス levis\"\n",
    "item_1, knowledge_id_1 = \"501xx 片面タブ\", 11\n",
    "item_2, knowledge_id_2 = \"501xx 両面タブ\", 12\n",
    "\n",
    "list_item = [item_1, item_2]\n",
    "list_knowledge_id = [knowledge_id_1, knowledge_id_2]\n",
    "\n",
    "n_bulk = len(list_item)  # 一括で処理する検索キーワードパターンの数\n",
    "\n",
    "\"\"\"以下、一括処理を行う\"\"\"\n",
    "\n",
    "# 空データフレーム作成\n",
    "columns = [\"id\", \"name\", \"url\", \"price\", \"knowledge_id\", \"platform_id\", \"size_id\"]\n",
    "types = [\n",
    "    \"int64\",\n",
    "    \"object\",\n",
    "    \"object\" \"int64\",\n",
    "    \"int64\",\n",
    "    \"int64\",\n",
    "    \"int64\",\n",
    "]\n",
    "d_column = dict(zip(columns, [2]))\n",
    "df_bulk = pd.DataFrame()\n",
    "# df_bulk[columns] = \"\", \"\", \"\", \"\", \"\", \"\", \"\"\n",
    "\n",
    "for n in np.arange(n_bulk):\n",
    "    keyword = f\"{brand} {list_item[n]} 中古\"\n",
    "    knowledge_id = list_knowledge_id[n]\n",
    "    print(\"検索キーワード:[\" + keyword + \"]\", \"knowledge_id:\", knowledge_id)\n",
    "    output = DataFrame_maker(keyword, platform_id, knowledge_id, size_id)\n",
    "    df_bulk = pd.concat([df_bulk, output], ignore_index=True)\n",
    "\n",
    "# 一括処理して出来上がったdataframeに対して最後にidを振る\n",
    "df_prev = pd.read_csv(\"../data/output/products_raw_prev.csv\")\n",
    "PREV_ID_MAX = df_prev[\"id\"].max()\n",
    "df_bulk[\"id\"] = np.arange(PREV_ID_MAX, PREV_ID_MAX + len(df_bulk)) + 1"
   ]
  },
  {
   "cell_type": "code",
   "execution_count": 57,
   "id": "e14ea217-c194-41c3-8652-99cbaa3f798c",
   "metadata": {},
   "outputs": [
    {
     "data": {
      "text/plain": [
       "id               int64\n",
       "name            object\n",
       "url             object\n",
       "price           object\n",
       "knowledge_id     int64\n",
       "platform_id      int64\n",
       "size_id          int64\n",
       "created_at      object\n",
       "updated_at      object\n",
       "dtype: object"
      ]
     },
     "execution_count": 57,
     "metadata": {},
     "output_type": "execute_result"
    }
   ],
   "source": [
    "df_bulk.dtypes"
   ]
  },
  {
   "cell_type": "code",
   "execution_count": 59,
   "id": "35f64899-2315-487d-995f-fd85f4de9826",
   "metadata": {},
   "outputs": [],
   "source": [
    "file_name = \"products_raw\"\n",
    "df_bulk.to_csv(\"../data/output/\" + file_name + \".csv\", index=False)"
   ]
  },
  {
   "cell_type": "code",
   "execution_count": null,
   "id": "02342650-72d6-4fca-bfd3-142526572037",
   "metadata": {},
   "outputs": [],
   "source": []
  }
 ],
 "metadata": {
  "kernelspec": {
   "display_name": "Python 3 (ipykernel)",
   "language": "python",
   "name": "python3"
  },
  "language_info": {
   "codemirror_mode": {
    "name": "ipython",
    "version": 3
   },
   "file_extension": ".py",
   "mimetype": "text/x-python",
   "name": "python",
   "nbconvert_exporter": "python",
   "pygments_lexer": "ipython3",
   "version": "3.11.3"
  }
 },
 "nbformat": 4,
 "nbformat_minor": 5
}
