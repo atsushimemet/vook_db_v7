{
 "cells": [
  {
   "cell_type": "code",
   "execution_count": null,
   "id": "7210bbb8-eeb0-41e7-b540-b05d8439d8d0",
   "metadata": {},
   "outputs": [],
   "source": []
  },
  {
   "cell_type": "code",
   "execution_count": 1,
   "id": "fb6d7220-dc42-4214-b92e-9db88a4c55d4",
   "metadata": {},
   "outputs": [],
   "source": [
    "import json\n",
    "import re\n",
    "from time import sleep\n",
    "import os\n",
    "import pandas as pd\n",
    "import requests\n",
    "from vook_db_v5.config import req_params, WANT_ITEMS, REQ_URL, MAX_PAGE, path_output_dir\n",
    "import datetime\n",
    "import argparse\n",
    "import numpy as np\n",
    "# from logzero import logger"
   ]
  },
  {
   "cell_type": "code",
   "execution_count": 2,
   "id": "305c973a-6f8d-45c2-bdf8-0c3b55756e40",
   "metadata": {},
   "outputs": [],
   "source": [
    "brand = 'リーバイス levis'\n",
    "item = '501 66前期'\n",
    "\n",
    "platform_id = 1\n",
    "item_id = 1\n",
    "knowledge_id = 1\n"
   ]
  },
  {
   "cell_type": "code",
   "execution_count": 3,
   "id": "03fcf0d1-2f3d-415d-bb98-38c37d1d41ec",
   "metadata": {},
   "outputs": [
    {
     "name": "stdout",
     "output_type": "stream",
     "text": [
      "Finished!!\n",
      "Finished!!\n",
      "返ってきた商品数の数が0なので、ループ終了\n"
     ]
    }
   ],
   "source": [
    "cnt = 1\n",
    "keyword = f\"{brand} {item} 中古\"\n",
    "\n",
    "req_params[\"page\"] = cnt\n",
    "req_params[\"keyword\"] = keyword\n",
    "df = pd.DataFrame(columns=WANT_ITEMS)\n",
    "\n",
    "# ページループ\n",
    "# logger.info(\"loop start!\")\n",
    "while True:\n",
    "    req_params[\"page\"] = cnt\n",
    "    res = requests.get(REQ_URL, req_params)\n",
    "    res_code = res.status_code\n",
    "    res = json.loads(res.text)\n",
    "    if res_code != 200:\n",
    "        print(\n",
    "            f\"\"\"\n",
    "        ErrorCode -> {res_code}\\n\n",
    "        Error -> {res['error']}\\n\n",
    "        Page -> {cnt}\"\"\"\n",
    "        )\n",
    "    else:\n",
    "        if res[\"hits\"] == 0:\n",
    "            print(\"返ってきた商品数の数が0なので、ループ終了\")\n",
    "            break\n",
    "        tmp_df = pd.DataFrame(res[\"Items\"])[WANT_ITEMS]\n",
    "        df = pd.concat([df, tmp_df], ignore_index=True)\n",
    "    if cnt == MAX_PAGE:\n",
    "        print(\"MAX PAGEに到達したので、ループ終了\")\n",
    "        break\n",
    "    # logger.info(f\"{cnt} end!\")\n",
    "    cnt += 1\n",
    "    # リクエスト制限回避\n",
    "    sleep(1)\n",
    "\n",
    "    print(\"Finished!!\")"
   ]
  },
  {
   "cell_type": "code",
   "execution_count": 4,
   "id": "794f3649-a06c-4e00-a663-b4564c886e72",
   "metadata": {},
   "outputs": [],
   "source": [
    "# df['brand_id'] = brand_id\n",
    "df['pltaform_id'] = platform_id\n",
    "df['knowledge_id'] = knowledge_id\n",
    "df['size_id'] = ''\n",
    "# df['line_id'] = line_id\n",
    "# df['item_id'] = item_id\n",
    "df['id'] = np.arange(len(df))+1"
   ]
  },
  {
   "cell_type": "code",
   "execution_count": 5,
   "id": "b22e513f-793a-40bb-bb0e-ca55f1659811",
   "metadata": {},
   "outputs": [],
   "source": [
    "df_main = df.rename(columns={'itemName':'name', 'itemPrice':'price', 'itemUrl':'url'})\n",
    "df_main = df_main.reindex(columns=[\n",
    "    'id','name','url','price','knowledge_id','pltaform_id','size_id'])"
   ]
  },
  {
   "cell_type": "code",
   "execution_count": 6,
   "id": "f71f44dc-f769-4cd5-9ca2-5d3447b518f9",
   "metadata": {},
   "outputs": [],
   "source": [
    "run_time = datetime.datetime.now().strftime(\"%Y-%m-%d %H:%M:%S.%f\")"
   ]
  },
  {
   "cell_type": "code",
   "execution_count": 7,
   "id": "a669b5b4-ca63-45dd-b54f-3eea02f805b8",
   "metadata": {},
   "outputs": [
    {
     "data": {
      "text/html": [
       "<div>\n",
       "<style scoped>\n",
       "    .dataframe tbody tr th:only-of-type {\n",
       "        vertical-align: middle;\n",
       "    }\n",
       "\n",
       "    .dataframe tbody tr th {\n",
       "        vertical-align: top;\n",
       "    }\n",
       "\n",
       "    .dataframe thead th {\n",
       "        text-align: right;\n",
       "    }\n",
       "</style>\n",
       "<table border=\"1\" class=\"dataframe\">\n",
       "  <thead>\n",
       "    <tr style=\"text-align: right;\">\n",
       "      <th></th>\n",
       "      <th>id</th>\n",
       "      <th>name</th>\n",
       "      <th>url</th>\n",
       "      <th>price</th>\n",
       "      <th>knowledge_id</th>\n",
       "      <th>pltaform_id</th>\n",
       "      <th>size_id</th>\n",
       "      <th>created_at</th>\n",
       "      <th>updated_at</th>\n",
       "    </tr>\n",
       "  </thead>\n",
       "  <tbody>\n",
       "    <tr>\n",
       "      <th>0</th>\n",
       "      <td>1</td>\n",
       "      <td>Levi's(リーバイス) サイズ:W35/L34 70s VINTAGE 501 66前期...</td>\n",
       "      <td>https://hb.afl.rakuten.co.jp/hgc/g00s6rie.brn1...</td>\n",
       "      <td>423500</td>\n",
       "      <td>1</td>\n",
       "      <td>1</td>\n",
       "      <td></td>\n",
       "      <td>2023-09-02 15:25:35.840555</td>\n",
       "      <td>2023-09-02 15:25:35.840555</td>\n",
       "    </tr>\n",
       "    <tr>\n",
       "      <th>1</th>\n",
       "      <td>2</td>\n",
       "      <td>リーバイス 70s 501 66前期 BIGE ストレート デニムパンツ W31 Levi'...</td>\n",
       "      <td>https://hb.afl.rakuten.co.jp/hgc/g00rf2ie.brn1...</td>\n",
       "      <td>327800</td>\n",
       "      <td>1</td>\n",
       "      <td>1</td>\n",
       "      <td></td>\n",
       "      <td>2023-09-02 15:25:35.840555</td>\n",
       "      <td>2023-09-02 15:25:35.840555</td>\n",
       "    </tr>\n",
       "  </tbody>\n",
       "</table>\n",
       "</div>"
      ],
      "text/plain": [
       "   id                                               name  \\\n",
       "0   1  Levi's(リーバイス) サイズ:W35/L34 70s VINTAGE 501 66前期...   \n",
       "1   2  リーバイス 70s 501 66前期 BIGE ストレート デニムパンツ W31 Levi'...   \n",
       "\n",
       "                                                 url   price  knowledge_id  \\\n",
       "0  https://hb.afl.rakuten.co.jp/hgc/g00s6rie.brn1...  423500             1   \n",
       "1  https://hb.afl.rakuten.co.jp/hgc/g00rf2ie.brn1...  327800             1   \n",
       "\n",
       "   pltaform_id size_id                  created_at                  updated_at  \n",
       "0            1          2023-09-02 15:25:35.840555  2023-09-02 15:25:35.840555  \n",
       "1            1          2023-09-02 15:25:35.840555  2023-09-02 15:25:35.840555  "
      ]
     },
     "execution_count": 7,
     "metadata": {},
     "output_type": "execute_result"
    }
   ],
   "source": [
    "df_main['created_at'] = run_time\n",
    "df_main['updated_at'] = run_time\n",
    "df_main[:2]"
   ]
  },
  {
   "cell_type": "code",
   "execution_count": null,
   "id": "03c3a584-d8cd-4ed9-abed-e61c1374cc7f",
   "metadata": {},
   "outputs": [],
   "source": [
    "file_name = 'rakuten_api'\n",
    "df_main.to_csv(file_name+'.csv')"
   ]
  },
  {
   "cell_type": "code",
   "execution_count": null,
   "id": "cb3ce97b-13bb-45c1-810b-b3a366e79d9d",
   "metadata": {},
   "outputs": [],
   "source": []
  },
  {
   "cell_type": "code",
   "execution_count": null,
   "id": "8fa20a49-43ea-4878-99d7-192ae4afefe9",
   "metadata": {},
   "outputs": [],
   "source": []
  },
  {
   "cell_type": "code",
   "execution_count": 43,
   "id": "92c7f7c2-f6b4-4c09-bd15-2556adb97d56",
   "metadata": {},
   "outputs": [],
   "source": [
    "notation_s = [\"w27\",\"W27\",\"27×\",\"w28\",\"W28\",\"28×\",\"w29\",\"W29\", \"29×\"]\n",
    "notation_m = [\"w30\",\"W30\",\"30×\",\"w31\",\"W31\",\"31×\",\"w32\",\"W32\", \"32×\"]\n",
    "notation_l = [\"w33\",\"W33\",\"33×\",\"w34\",\"W34\",\"34×\",\"w35\",\"W35\", \"35×\"]\n",
    "notation_xl = [\"w36\",\"W36\",\"36×\",\"w37\",\"W37\",\"37×\",\"w38\",\"W38\", \"38×\",\"w39\",\"W39\", \"39×\",\"w40\",\"W40\", \"40×\"]"
   ]
  },
  {
   "cell_type": "code",
   "execution_count": 44,
   "id": "acaafd17-289d-46b9-97dc-6d0436613637",
   "metadata": {},
   "outputs": [
    {
     "data": {
      "text/plain": [
       "True"
      ]
     },
     "execution_count": 44,
     "metadata": {},
     "output_type": "execute_result"
    }
   ],
   "source": [
    "notation_xl[-1] in result_list[1][0]"
   ]
  },
  {
   "cell_type": "code",
   "execution_count": 35,
   "id": "956ec208-cf5e-4595-80bf-fb522405ea0b",
   "metadata": {},
   "outputs": [
    {
     "data": {
      "text/plain": [
       "'W31'"
      ]
     },
     "execution_count": 35,
     "metadata": {},
     "output_type": "execute_result"
    }
   ],
   "source": [
    "notation_m[4]"
   ]
  },
  {
   "cell_type": "code",
   "execution_count": 41,
   "id": "1a3bf9a6-22c0-4eaa-bd11-c5e4cfc87455",
   "metadata": {},
   "outputs": [
    {
     "data": {
      "text/plain": [
       "'40✖️'"
      ]
     },
     "execution_count": 41,
     "metadata": {},
     "output_type": "execute_result"
    }
   ],
   "source": [
    "notation_xl[-1]"
   ]
  },
  {
   "cell_type": "code",
   "execution_count": 64,
   "id": "a0b9c5d6-546c-4c4e-bfdc-a810558761e2",
   "metadata": {},
   "outputs": [
    {
     "data": {
      "text/plain": [
       "{'W31'}"
      ]
     },
     "execution_count": 64,
     "metadata": {},
     "output_type": "execute_result"
    }
   ],
   "source": [
    "list_a = result_list[0][0].split()\n",
    "(set(list_a))& (set(notation_m))"
   ]
  },
  {
   "cell_type": "code",
   "execution_count": 86,
   "id": "dd8b42ac-d87a-4344-88a7-8af1359781aa",
   "metadata": {},
   "outputs": [
    {
     "name": "stdout",
     "output_type": "stream",
     "text": [
      "None\n"
     ]
    }
   ],
   "source": [
    "answer = re.match('×',result_list[1][0])\n",
    "print(answer)"
   ]
  },
  {
   "cell_type": "code",
   "execution_count": 85,
   "id": "9a58aecf-525c-47d6-bb65-514ef39c741c",
   "metadata": {},
   "outputs": [
    {
     "data": {
      "text/plain": [
       "True"
      ]
     },
     "execution_count": 85,
     "metadata": {},
     "output_type": "execute_result"
    }
   ],
   "source": [
    "'×' in result_list[1][0]"
   ]
  },
  {
   "cell_type": "code",
   "execution_count": null,
   "id": "22a366fa-e38c-4bce-b9bc-fbabb0962ad6",
   "metadata": {},
   "outputs": [],
   "source": []
  }
 ],
 "metadata": {
  "kernelspec": {
   "display_name": "Python 3 (ipykernel)",
   "language": "python",
   "name": "python3"
  },
  "language_info": {
   "codemirror_mode": {
    "name": "ipython",
    "version": 3
   },
   "file_extension": ".py",
   "mimetype": "text/x-python",
   "name": "python",
   "nbconvert_exporter": "python",
   "pygments_lexer": "ipython3",
   "version": "3.11.3"
  }
 },
 "nbformat": 4,
 "nbformat_minor": 5
}
